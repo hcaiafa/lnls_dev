{
 "cells": [
  {
   "cell_type": "markdown",
   "metadata": {},
   "source": [
    "# Determining the FOFB Controls Efforts in Sirius as Input for RTM-LAMP Tests\n",
    "\n",
    "Three scripts were developed in order to calculate the current inputs for RTM-LAMP tests. Each one will be hereby addressed in the following subsections.\n",
    "\n",
    "## Response Matrix Calculation: calc_respmat_fofb.py (from Fernando H. de Sá) \n",
    "Must be ran locally at Sirius Operation Room. calculates the response matrix in um/urad from the machine model and it is organized as folows:\n",
    "\n",
    "\\begin{bmatrix}\n",
    "    M_{xx}       & M_{xy} \\\\\n",
    "    M_{yx}       & M_{yy} \n",
    "\\end{bmatrix}\n",
    "\n",
    "where\n",
    "\n",
    "\\begin{matrix}\n",
    "    M_{xx} = FCH~BPM_x \\\\ \n",
    "    M_{xy} = FCV~BPM_x \\\\\n",
    "    M_{yx} = FCH~BPM_y \\\\\n",
    "    M_{yy} = FCV~BPM_y\n",
    "\\end{matrix}\n",
    "\n",
    "which means the dimension of M is (320, 160). \n",
    "\n",
    "The resulting matrix was stored in \\textit{Rmat.pickle} and \\textit{Rmat.mat} files.\n",
    "\n",
    "## BPM Readings Acquisition: bpm_mult_acq.py\n",
    "\n",
    "This script loads BPM PVs whose names are in bpmlist.pickle (default) and dumps bpm readings in [[x],[y]]\n",
    "format to the 'results' (default) .pickle and .mat files. Shape is $2~n_{BPMs} \\times n_{samples}$. Units in nm.\n",
    "\n",
    "As example of usage, first readings were performed on 22-Feb-2021. 100k samples were acquired in FOFB channel an the results dumped in test100k.mat and test100k.pickle files by running:\n",
    "\n",
    "```bash\n",
    "    ./bpm_mult_acq.py 100000 'FOFB' -r 'test100k'\n",
    "```\n",
    "\n",
    "## Fast Correctors Current Estimations: calc_i_FCOR.py\n",
    "\n",
    "This script inputs \\textit{acqfile} string and loads bpm readings from aqcfile+'.pickle' and the response \n",
    "matrix present in 'Rmat.pickle' file.\n",
    "\n",
    "After calculating the pseudoinverse of Rmat through SVD, the current response is obtained from \n",
    "\\begin{equation}\n",
    "    I_{FCOR} = \\frac{1}{kick_{factor}} R_{pseudoinv} \\cdot xy_{readings}\n",
    "\\end{equation}\n",
    "\n",
    "with $kick_{factor} = 0.03~ \\mu rad/mA $\n",
    "\n",
    "Results in time domain are dumped to acqfile+'i_FCOR.pickle' acqfile+'i_FCOR.mat' in mA.\n",
    "\n",
    "### 22-Feb-2021\n",
    "The code below is mostly from calc_i_FCOR.py and calculates FFT for FOFB acq channel and 100k samples provides:\n",
    "\n"
   ]
  },
  {
   "cell_type": "code",
   "execution_count": 1,
   "metadata": {},
   "outputs": [
    {
     "data": {
      "image/png": "[encoded data removed]",
      "text/plain": [
       "<Figure size 432x288 with 1 Axes>"
      ]
     },
     "metadata": {
      "needs_background": "light"
     },
     "output_type": "display_data"
    }
   ],
   "source": [
    "import pickle\n",
    "import numpy as np\n",
    "import matplotlib.pyplot as plt\n",
    "\n",
    "acqfile = 'test100k'\n",
    "\n",
    "with open('Rmat.pickle', 'rb') as filehandle:\n",
    "    Rmat = pickle.load(filehandle)    # [um/urad]\n",
    "    \n",
    "U, s, Vt = np.linalg.svd(Rmat)\n",
    "\n",
    "threshold = 1e-5\n",
    "\n",
    "s_inv = np.array([1/i if i > threshold else 0. for i in s])\n",
    "\n",
    "W_inv = np.zeros((len(Vt), len(U))) #, dtype=complex)\n",
    "W_inv[:len(Vt), :len(Vt)] = np.diag(s_inv)\n",
    "\n",
    "R_pseudoinv = np.linalg.multi_dot([np.transpose(Vt), W_inv, np.transpose(U)])\n",
    "\n",
    "fRF = 499.6649e6\n",
    "\n",
    "fFOFB = fRF/19872\n",
    "wFOFB = 2*np.pi*fFOFB\n",
    "\n",
    "Ts = 1/fFOFB\n",
    "\n",
    "with open(acqfile + '.pickle', 'rb') as filehandle2:\n",
    "    xy_read = pickle.load(filehandle2)*1e-3\n",
    "\n",
    "_,ns = xy_read.shape\n",
    "\n",
    "kick_factor = 0.03 # urad/mA\n",
    "corr_signals = R_pseudoinv @ xy_read/kick_factor \n",
    "\n",
    "# FFT of the results\n",
    "\n",
    "freqs = np.fft.fftfreq(ns)*fFOFB\n",
    "mask = freqs > 0  # list with indexes \n",
    "\n",
    "cur_spectra =  np.array( [ 2.0*np.abs(np.fft.fft(corr_signals[i])/ns) for i in range(len(R_pseudoinv)) ] )\n",
    "\n",
    "# mean and max collumn-wise (i.e. for each fft bin)\n",
    "cur_mean = np.mean(cur_spectra,axis=0)\n",
    "cur_max = np.max(cur_spectra,axis=0)\n",
    "\n",
    "plt.figure(1)\n",
    "\n",
    "plt.plot(freqs[mask],cur_max[mask],label=\"max bin values\")\n",
    "plt.plot(freqs[mask],cur_mean[mask],label=\"avg spectrum\")\n",
    "\n",
    "plt.legend()\n",
    "plt.yscale('log')\n",
    "plt.ylabel('Amplitude [mA]')\n",
    "plt.xlabel('Frequency [Hz]')\n",
    "plt.grid(True)\n",
    "plt.show()"
   ]
  },
  {
   "cell_type": "markdown",
   "metadata": {},
   "source": [
    "The code was debugged and the results evaluated together with MATLAB codes developed by Daniel Tavares."
   ]
  }
 ],
 "metadata": {
  "hide_input": false,
  "kernelspec": {
   "display_name": "Python 3",
   "language": "python",
   "name": "python3"
  },
  "language_info": {
   "codemirror_mode": {
    "name": "ipython",
    "version": 3
   },
   "file_extension": ".py",
   "mimetype": "text/x-python",
   "name": "python",
   "nbconvert_exporter": "python",
   "pygments_lexer": "ipython3",
   "version": "3.7.6"
  },
  "latex_envs": {
   "LaTeX_envs_menu_present": true,
   "autoclose": false,
   "autocomplete": true,
   "bibliofile": "biblio.bib",
   "cite_by": "apalike",
   "current_citInitial": 1,
   "eqLabelWithNumbers": true,
   "eqNumInitial": 1,
   "hotkeys": {
    "equation": "Ctrl-E",
    "itemize": "Ctrl-I"
   },
   "labels_anchors": false,
   "latex_user_defs": false,
   "report_style_numbering": false,
   "user_envs_cfg": false
  },
  "toc": {
   "base_numbering": 1,
   "nav_menu": {},
   "number_sections": true,
   "sideBar": true,
   "skip_h1_title": false,
   "title_cell": "Table of Contents",
   "title_sidebar": "Contents",
   "toc_cell": false,
   "toc_position": {},
   "toc_section_display": true,
   "toc_window_display": false
  }
 },
 "nbformat": 4,
 "nbformat_minor": 4
}
